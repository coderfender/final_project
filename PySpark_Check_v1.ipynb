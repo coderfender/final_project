{
 "cells": [
  {
   "cell_type": "code",
   "execution_count": 1,
   "metadata": {
    "collapsed": true
   },
   "outputs": [],
   "source": [
    "from pyspark.ml.evaluation import RegressionEvaluator\n",
    "from pyspark.ml.recommendation import ALS\n",
    "from pyspark.sql import Row"
   ]
  },
  {
   "cell_type": "code",
   "execution_count": 2,
   "metadata": {
    "collapsed": false
   },
   "outputs": [],
   "source": [
    "from pyspark.context import SparkContext \n",
    "sc = SparkContext.getOrCreate()\n",
    "from pyspark.sql.session import SparkSession\n",
    "#sc = SparkContext.getOrCreate('local')\n",
    "spark = SparkSession(sc)"
   ]
  },
  {
   "cell_type": "code",
   "execution_count": 16,
   "metadata": {
    "collapsed": false
   },
   "outputs": [
    {
     "name": "stdout",
     "output_type": "stream",
     "text": [
      "<pyspark.context.SparkContext object at 0x000000000697BA90>\n"
     ]
    }
   ],
   "source": [
    "from pyspark.sql import SQLContext\n",
    "sqlCtx = SQLContext(sc)"
   ]
  },
  {
   "cell_type": "code",
   "execution_count": 3,
   "metadata": {
    "collapsed": false
   },
   "outputs": [
    {
     "name": "stdout",
     "output_type": "stream",
     "text": [
      "C:\\Users\\bhargavic\n"
     ]
    }
   ],
   "source": [
    "import os\n",
    "print os.getcwd()\n"
   ]
  },
  {
   "cell_type": "code",
   "execution_count": 4,
   "metadata": {
    "collapsed": true
   },
   "outputs": [],
   "source": [
    "import pandas as pd"
   ]
  },
  {
   "cell_type": "code",
   "execution_count": 7,
   "metadata": {
    "collapsed": false
   },
   "outputs": [],
   "source": [
    "##Toy Dataset code\n",
    "\n",
    "df_rev = pd.read_csv(\"D:\\Grad Notes\\Search\\Project\\Data\\yelp_dataset\\dataset\\\\review.csv\")\n",
    "\n",
    "# lines = spark.read.csv(mpath+\"review.csv\").rdd\n",
    "# parts = lines.map(lambda row: row.value.split(\"::\"))"
   ]
  },
  {
   "cell_type": "code",
   "execution_count": 10,
   "metadata": {
    "collapsed": false
   },
   "outputs": [],
   "source": [
    "#print df_rev\n",
    "df_rev = df_rev.sample(frac=0.4)\n",
    "#ratings = spark.createDataFrame(df_rev)"
   ]
  },
  {
   "cell_type": "code",
   "execution_count": 11,
   "metadata": {
    "collapsed": false
   },
   "outputs": [
    {
     "data": {
      "text/html": [
       "<div>\n",
       "<table border=\"1\" class=\"dataframe\">\n",
       "  <thead>\n",
       "    <tr style=\"text-align: right;\">\n",
       "      <th></th>\n",
       "      <th>user_id</th>\n",
       "      <th>business_id</th>\n",
       "      <th>stars</th>\n",
       "    </tr>\n",
       "  </thead>\n",
       "  <tbody>\n",
       "    <tr>\n",
       "      <th>0</th>\n",
       "      <td>---1lKK3aKOuomHnwAkAow</td>\n",
       "      <td>5cbsjFtrntUAeUx51FaFTg</td>\n",
       "      <td>1</td>\n",
       "    </tr>\n",
       "    <tr>\n",
       "      <th>1</th>\n",
       "      <td>---1lKK3aKOuomHnwAkAow</td>\n",
       "      <td>DXlDzOcpdUE_F21tok0fgw</td>\n",
       "      <td>4</td>\n",
       "    </tr>\n",
       "    <tr>\n",
       "      <th>2</th>\n",
       "      <td>---1lKK3aKOuomHnwAkAow</td>\n",
       "      <td>GGCVNcBQ9WGviYNiaR8tBw</td>\n",
       "      <td>5</td>\n",
       "    </tr>\n",
       "    <tr>\n",
       "      <th>3</th>\n",
       "      <td>---1lKK3aKOuomHnwAkAow</td>\n",
       "      <td>NAuUGBenC_TJoj2c6y9rbg</td>\n",
       "      <td>5</td>\n",
       "    </tr>\n",
       "    <tr>\n",
       "      <th>4</th>\n",
       "      <td>---1lKK3aKOuomHnwAkAow</td>\n",
       "      <td>PIXl4WvAqjl2w9Lj81zXvQ</td>\n",
       "      <td>1</td>\n",
       "    </tr>\n",
       "  </tbody>\n",
       "</table>\n",
       "</div>"
      ],
      "text/plain": [
       "                  user_id             business_id  stars\n",
       "0  ---1lKK3aKOuomHnwAkAow  5cbsjFtrntUAeUx51FaFTg      1\n",
       "1  ---1lKK3aKOuomHnwAkAow  DXlDzOcpdUE_F21tok0fgw      4\n",
       "2  ---1lKK3aKOuomHnwAkAow  GGCVNcBQ9WGviYNiaR8tBw      5\n",
       "3  ---1lKK3aKOuomHnwAkAow  NAuUGBenC_TJoj2c6y9rbg      5\n",
       "4  ---1lKK3aKOuomHnwAkAow  PIXl4WvAqjl2w9Lj81zXvQ      1"
      ]
     },
     "execution_count": 11,
     "metadata": {},
     "output_type": "execute_result"
    }
   ],
   "source": [
    "df_new = df_rev[['user_id','business_id','stars']]\n",
    "df_new = pd.DataFrame(df_new.groupby(['user_id','business_id']).agg('mean'))\n",
    "df_new.reset_index(inplace=True)\n",
    "df_new.head()"
   ]
  },
  {
   "cell_type": "code",
   "execution_count": 48,
   "metadata": {
    "collapsed": false,
    "scrolled": false
   },
   "outputs": [],
   "source": [
    "from functools import partial\n",
    "\n",
    "ulist = set(df_new['user_id'].tolist())\n",
    "blist = set(df_new['business_id'].tolist())\n",
    "user_zip = dict(zip(ulist, xrange(len(ulist))))\n",
    "bus_zip = dict(zip(blist, xrange(len(blist))))\n",
    "\n",
    "def assign_id(val, zip_val):\n",
    "    return zip_val[val]\n",
    "    \n",
    "df_new['user_id_int'] = df_new['user_id'].apply(partial(assign_id, zip_val= user_zip))\n",
    "\n",
    "df_new['business_id_int'] = df_new['business_id'].apply(partial(assign_id, zip_val=bus_zip))"
   ]
  },
  {
   "cell_type": "code",
   "execution_count": 49,
   "metadata": {
    "collapsed": false
   },
   "outputs": [
    {
     "data": {
      "text/html": [
       "<div>\n",
       "<table border=\"1\" class=\"dataframe\">\n",
       "  <thead>\n",
       "    <tr style=\"text-align: right;\">\n",
       "      <th></th>\n",
       "      <th>user_id</th>\n",
       "      <th>business_id</th>\n",
       "      <th>stars</th>\n",
       "      <th>user_id_int</th>\n",
       "      <th>business_id_int</th>\n",
       "    </tr>\n",
       "  </thead>\n",
       "  <tbody>\n",
       "    <tr>\n",
       "      <th>0</th>\n",
       "      <td>---1lKK3aKOuomHnwAkAow</td>\n",
       "      <td>5cbsjFtrntUAeUx51FaFTg</td>\n",
       "      <td>1</td>\n",
       "      <td>141783</td>\n",
       "      <td>29022</td>\n",
       "    </tr>\n",
       "    <tr>\n",
       "      <th>1</th>\n",
       "      <td>---1lKK3aKOuomHnwAkAow</td>\n",
       "      <td>DXlDzOcpdUE_F21tok0fgw</td>\n",
       "      <td>4</td>\n",
       "      <td>141783</td>\n",
       "      <td>78728</td>\n",
       "    </tr>\n",
       "    <tr>\n",
       "      <th>2</th>\n",
       "      <td>---1lKK3aKOuomHnwAkAow</td>\n",
       "      <td>GGCVNcBQ9WGviYNiaR8tBw</td>\n",
       "      <td>5</td>\n",
       "      <td>141783</td>\n",
       "      <td>42424</td>\n",
       "    </tr>\n",
       "    <tr>\n",
       "      <th>3</th>\n",
       "      <td>---1lKK3aKOuomHnwAkAow</td>\n",
       "      <td>NAuUGBenC_TJoj2c6y9rbg</td>\n",
       "      <td>5</td>\n",
       "      <td>141783</td>\n",
       "      <td>73260</td>\n",
       "    </tr>\n",
       "    <tr>\n",
       "      <th>4</th>\n",
       "      <td>---1lKK3aKOuomHnwAkAow</td>\n",
       "      <td>PIXl4WvAqjl2w9Lj81zXvQ</td>\n",
       "      <td>1</td>\n",
       "      <td>141783</td>\n",
       "      <td>13462</td>\n",
       "    </tr>\n",
       "  </tbody>\n",
       "</table>\n",
       "</div>"
      ],
      "text/plain": [
       "                  user_id             business_id  stars  user_id_int  \\\n",
       "0  ---1lKK3aKOuomHnwAkAow  5cbsjFtrntUAeUx51FaFTg      1       141783   \n",
       "1  ---1lKK3aKOuomHnwAkAow  DXlDzOcpdUE_F21tok0fgw      4       141783   \n",
       "2  ---1lKK3aKOuomHnwAkAow  GGCVNcBQ9WGviYNiaR8tBw      5       141783   \n",
       "3  ---1lKK3aKOuomHnwAkAow  NAuUGBenC_TJoj2c6y9rbg      5       141783   \n",
       "4  ---1lKK3aKOuomHnwAkAow  PIXl4WvAqjl2w9Lj81zXvQ      1       141783   \n",
       "\n",
       "   business_id_int  \n",
       "0            29022  \n",
       "1            78728  \n",
       "2            42424  \n",
       "3            73260  \n",
       "4            13462  "
      ]
     },
     "execution_count": 49,
     "metadata": {},
     "output_type": "execute_result"
    }
   ],
   "source": [
    "df_new.head()"
   ]
  },
  {
   "cell_type": "code",
   "execution_count": null,
   "metadata": {
    "collapsed": false
   },
   "outputs": [],
   "source": []
  },
  {
   "cell_type": "code",
   "execution_count": 50,
   "metadata": {
    "collapsed": false
   },
   "outputs": [
    {
     "name": "stdout",
     "output_type": "stream",
     "text": [
      "DataFrame[user_id: string, business_id: string, stars: bigint, user_id_int: bigint, business_id_int: bigint]\n"
     ]
    }
   ],
   "source": [
    "ratings  = spark.createDataFrame(df_new)\n",
    "print ratings"
   ]
  },
  {
   "cell_type": "code",
   "execution_count": null,
   "metadata": {
    "collapsed": true
   },
   "outputs": [],
   "source": []
  },
  {
   "cell_type": "code",
   "execution_count": null,
   "metadata": {
    "collapsed": true
   },
   "outputs": [],
   "source": []
  },
  {
   "cell_type": "code",
   "execution_count": 51,
   "metadata": {
    "collapsed": false
   },
   "outputs": [
    {
     "name": "stdout",
     "output_type": "stream",
     "text": [
      "+--------------------+--------------------+-----+-----------+---------------+\n",
      "|             user_id|         business_id|stars|user_id_int|business_id_int|\n",
      "+--------------------+--------------------+-----+-----------+---------------+\n",
      "|---1lKK3aKOuomHnw...|5cbsjFtrntUAeUx51...|    1|     141783|          29022|\n",
      "|---1lKK3aKOuomHnw...|DXlDzOcpdUE_F21to...|    4|     141783|          78728|\n",
      "|---1lKK3aKOuomHnw...|GGCVNcBQ9WGviYNia...|    5|     141783|          42424|\n",
      "|---1lKK3aKOuomHnw...|NAuUGBenC_TJoj2c6...|    5|     141783|          73260|\n",
      "|---1lKK3aKOuomHnw...|PIXl4WvAqjl2w9Lj8...|    1|     141783|          13462|\n",
      "|---1lKK3aKOuomHnw...|WOO81gScY3_VpaIfX...|    4|     141783|          75744|\n",
      "|---1lKK3aKOuomHnw...|d7Jgj1h_MILumtsTl...|    5|     141783|          38589|\n",
      "|---1lKK3aKOuomHnw...|dM8Yp8StA1NdusK5T...|    3|     141783|          65743|\n",
      "|---1lKK3aKOuomHnw...|eRJA6L1Rqi-3ITevo...|    5|     141783|           3525|\n",
      "|---1lKK3aKOuomHnw...|gVhX5xcnGjHE3mF2e...|    5|     141783|          12600|\n",
      "+--------------------+--------------------+-----+-----------+---------------+\n",
      "only showing top 10 rows\n",
      "\n"
     ]
    }
   ],
   "source": [
    "ratings.show(10)"
   ]
  },
  {
   "cell_type": "code",
   "execution_count": null,
   "metadata": {
    "collapsed": true
   },
   "outputs": [],
   "source": []
  },
  {
   "cell_type": "code",
   "execution_count": 53,
   "metadata": {
    "collapsed": false
   },
   "outputs": [],
   "source": [
    "\n",
    "# ratingsRDD = parts.map(lambda p: Row(userId=int(p[0]), movieId=int(p[1]),\n",
    "#                                      rating=float(p[2]), timestamp=long(p[3])))\n",
    "# ratings = spark.createDataFrame(ratingsRDD)\n",
    "\n",
    "(training, test) = ratings.randomSplit([0.8, 0.2])\n",
    "\n",
    "# Build the recommendation model using ALS on the training data\n",
    "# Note we set cold start strategy to 'drop' to ensure we don't get NaN evaluation metrics\n",
    "als = ALS(maxIter=5, regParam=0.01, userCol=\"user_id_int\", itemCol=\"business_id_int\", ratingCol=\"stars\")\n",
    "model = als.fit(training)\n",
    "\n",
    "# Evaluate the model by computing the RMSE on the test data\n",
    "predictions = model.transform(test)\n",
    "\n",
    "\n",
    "#evaluator = RegressionEvaluator(metricName=\"rmse\", labelCol=\"stars\",\n",
    "#                                predictionCol=\"prediction\")\n",
    "\n",
    "\n",
    "\n",
    "#rmse = evaluator.evaluate(predictions)\n",
    "#print(\"Root-mean-square error = \" + str(rmse))\n",
    "\n",
    "# # Generate top 10 movie recommendations for each user\n",
    "# userRecs = model.recommendForAllUsers(10)\n",
    "# # Generate top 10 user recommendations for each movie\n",
    "# movieRecs = model.recommendForAllItems(10)"
   ]
  },
  {
   "cell_type": "code",
   "execution_count": 55,
   "metadata": {
    "collapsed": false
   },
   "outputs": [
    {
     "name": "stdout",
     "output_type": "stream",
     "text": [
      "[Row(user_id=u'9PWGLiZgOPT0XloR-vms0w', business_id=u'e9q0RPoKoja0C4Q_a6cnZA', stars=3, user_id_int=154945, business_id_int=1238, prediction=0.031763311475515366), Row(user_id=u'_fpHwIiEJOp79qED9YSE7Q', business_id=u'pHDLRIG2Xu1_1mkGAbyEmw', stars=4, user_id_int=29281, business_id_int=1645, prediction=1.205211877822876), Row(user_id=u'_c_qAv00T9RIkYudBCy3NQ', business_id=u'pHDLRIG2Xu1_1mkGAbyEmw', stars=5, user_id_int=194412, business_id_int=1645, prediction=2.2061519622802734), Row(user_id=u'tu5AwWOh6QlSvpi5CXalQg', business_id=u'pHDLRIG2Xu1_1mkGAbyEmw', stars=2, user_id_int=105694, business_id_int=1645, prediction=-4.052732944488525), Row(user_id=u'szyiQXEhOZYmFwBtHGYoDQ', business_id=u'pHDLRIG2Xu1_1mkGAbyEmw', stars=3, user_id_int=57458, business_id_int=1645, prediction=0.44852501153945923), Row(user_id=u'N_LyFYrey_LuxJFkdFwRkw', business_id=u'pHDLRIG2Xu1_1mkGAbyEmw', stars=2, user_id_int=178308, business_id_int=1645, prediction=-2.8874943256378174), Row(user_id=u'W41iFVGdDatFi-C84gBFJA', business_id=u'pHDLRIG2Xu1_1mkGAbyEmw', stars=5, user_id_int=153, business_id_int=1645, prediction=-2.944500684738159), Row(user_id=u'Z4-V0hc51oxUdULWJOufeg', business_id=u'R2ngkZC6KtJwRK_fmJk4WA', stars=4, user_id_int=154541, business_id_int=2142, prediction=0.17549927532672882), Row(user_id=u'Rnwsdjuac1Grtp14GVPWxg', business_id=u'At-yJDIUXWf9CeCpsofJwQ', stars=3, user_id_int=142189, business_id_int=2659, prediction=0.02406454086303711), Row(user_id=u'DTg2o04evGe500bNGLcR1w', business_id=u'Jwwkt9oAKsNF4AuItTIdPw', stars=1, user_id_int=3349, business_id_int=2866, prediction=-0.4822264015674591)]\n"
     ]
    }
   ],
   "source": [
    "predictions = predictions.dropna()\n",
    "print predictions.take(10)"
   ]
  },
  {
   "cell_type": "code",
   "execution_count": 56,
   "metadata": {
    "collapsed": false
   },
   "outputs": [
    {
     "name": "stdout",
     "output_type": "stream",
     "text": [
      "Root-mean-square error = 4.68695941334\n"
     ]
    }
   ],
   "source": [
    "\n",
    "evaluator = RegressionEvaluator(metricName=\"rmse\", labelCol=\"stars\",\n",
    "                               predictionCol=\"prediction\")\n",
    "\n",
    "\n",
    "\n",
    "rmse = evaluator.evaluate(predictions)\n",
    "print(\"Root-mean-square error = \" + str(rmse))"
   ]
  },
  {
   "cell_type": "code",
   "execution_count": 60,
   "metadata": {
    "collapsed": false
   },
   "outputs": [
    {
     "data": {
      "text/plain": [
       "pyspark.sql.dataframe.DataFrame"
      ]
     },
     "execution_count": 60,
     "metadata": {},
     "output_type": "execute_result"
    }
   ],
   "source": [
    "type(predictions)"
   ]
  },
  {
   "cell_type": "code",
   "execution_count": 63,
   "metadata": {
    "collapsed": false
   },
   "outputs": [
    {
     "data": {
      "text/plain": [
       "-22.941612243652344"
      ]
     },
     "execution_count": 63,
     "metadata": {},
     "output_type": "execute_result"
    }
   ],
   "source": [
    "predictions.agg({'prediction':'min'}).collect()[0][0]"
   ]
  },
  {
   "cell_type": "code",
   "execution_count": null,
   "metadata": {
    "collapsed": true
   },
   "outputs": [],
   "source": []
  }
 ],
 "metadata": {
  "anaconda-cloud": {},
  "kernelspec": {
   "display_name": "Python 2",
   "language": "python",
   "name": "python2"
  },
  "language_info": {
   "codemirror_mode": {
    "name": "ipython",
    "version": 2
   },
   "file_extension": ".py",
   "mimetype": "text/x-python",
   "name": "python",
   "nbconvert_exporter": "python",
   "pygments_lexer": "ipython2",
   "version": "2.7.13"
  }
 },
 "nbformat": 4,
 "nbformat_minor": 0
}
